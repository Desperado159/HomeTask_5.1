{
  "nbformat": 4,
  "nbformat_minor": 0,
  "metadata": {
    "colab": {
      "provenance": []
    },
    "kernelspec": {
      "name": "python3",
      "display_name": "Python 3"
    },
    "language_info": {
      "name": "python"
    }
  },
  "cells": [
    {
      "cell_type": "code",
      "execution_count": 77,
      "metadata": {
        "id": "nLckTDcJyMhq",
        "colab": {
          "base_uri": "https://localhost:8080/"
        },
        "outputId": "e5b47efa-ed74-475b-9f07-c68cfe6de19a"
      },
      "outputs": [
        {
          "output_type": "stream",
          "name": "stdout",
          "text": [
            "len(train_df)=117\n",
            "len(test_df)=33\n",
            "\n",
            "neighbors 1 Accuracy: 1.0\n",
            "neighbors 2 Accuracy: 0.9696969696969697\n",
            "neighbors 3 Accuracy: 0.9696969696969697\n",
            "neighbors 4 Accuracy: 1.0\n",
            "neighbors 5 Accuracy: 0.9696969696969697\n",
            "neighbors 6 Accuracy: 1.0\n",
            "neighbors 7 Accuracy: 1.0\n",
            "neighbors 8 Accuracy: 1.0\n",
            "neighbors 9 Accuracy: 1.0\n",
            "neighbors 10 Accuracy: 1.0\n",
            "neighbors 11 Accuracy: 1.0\n",
            "neighbors 12 Accuracy: 1.0\n",
            "neighbors 13 Accuracy: 1.0\n",
            "neighbors 14 Accuracy: 1.0\n"
          ]
        }
      ],
      "source": [
        "#import pandas as pd \n",
        "#import numpy as np\n",
        "from sklearn.datasets import load_iris\n",
        "from sklearn.metrics import accuracy_score\n",
        "from sklearn.neighbors import KNeighborsClassifier\n",
        "from sklearn.model_selection import train_test_split\n",
        "\n",
        "np.random.seed = 999\n",
        "\n",
        "train_df, test_df = train_test_split(df_iris, test_size= 0.22 , random_state= 0 )\n",
        "x_train = train_df[['sepal length (cm)','sepal width (cm)','petal length (cm)','petal width (cm)']]\n",
        "y_train = train_df['label_names']\n",
        "x_test = test_df[['sepal length (cm)','sepal width (cm)','petal length (cm)','petal width (cm)']]\n",
        "y_test = test_df['label_names']\n",
        "print ('len(train_df)={:,}'.format(len(train_df)))\n",
        "print ('len(test_df)={:,}'.format(len(test_df)))\n",
        "print ()\n",
        "\n",
        "for i in range (1, 15) :\n",
        "  knn = KNeighborsClassifier(n_neighbors = i)\n",
        "  knn.fit(x_train,y_train)\n",
        "  knn_predictions = knn.predict(x_test)\n",
        "  accuracy = accuracy_score(y_test, knn_predictions)\n",
        "  print ('neighbors',i, f'Accuracy: {accuracy}')\n",
        "\n",
        "#Не знаю чому, але результати получилися дуже дискретні. По цій причині виводив не найкращі показники, а всі"
      ]
    }
  ]
}